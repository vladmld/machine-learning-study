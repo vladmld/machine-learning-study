{
 "cells": [
  {
   "cell_type": "code",
   "execution_count": null,
   "metadata": {},
   "outputs": [],
   "source": [
    "import numpy as np\n",
    "import time"
   ]
  },
  {
   "cell_type": "code",
   "execution_count": null,
   "metadata": {},
   "outputs": [],
   "source": [
    "vector = np.zeros(5); \n",
    "vector = np.zeros((5,))\n",
    "vector = np.random.random_sample(5)"
   ]
  },
  {
   "cell_type": "code",
   "execution_count": null,
   "metadata": {},
   "outputs": [],
   "source": [
    "vector2 = np.arange(4.)\n",
    "vector2 = np.random.rand(4)\n"
   ]
  },
  {
   "attachments": {},
   "cell_type": "markdown",
   "metadata": {},
   "source": [
    "#### Operations on vectors\n",
    "indexing - reference an item in the array by its position \n",
    "\n",
    "slicing - getting a subset of elements from the array based on their indices"
   ]
  },
  {
   "cell_type": "code",
   "execution_count": null,
   "metadata": {},
   "outputs": [],
   "source": [
    "a =  np.arange(10)\n",
    "a[-1] # negative index returns elements from the end of the array\n",
    "\n",
    "try:\n",
    "    a[10]\n",
    "except Exception as e:\n",
    "    print(e)"
   ]
  },
  {
   "cell_type": "code",
   "execution_count": null,
   "metadata": {},
   "outputs": [],
   "source": [
    "# (start:stop:step)\n",
    "a = np.arange(10)\n",
    "a\n",
    "\n",
    "c = a [2:7:1]\n",
    "c"
   ]
  },
  {
   "cell_type": "code",
   "execution_count": null,
   "metadata": {},
   "outputs": [],
   "source": [
    "a = np.arange(5)\n",
    "b= a**2\n",
    "b"
   ]
  },
  {
   "cell_type": "code",
   "execution_count": null,
   "metadata": {},
   "outputs": [],
   "source": [
    "def custom_dot (a,b):\n",
    "    sum = 0\n",
    "    for i in range(len(a)):\n",
    "        sum = sum + a[i]*b[i]\n",
    "    return sum"
   ]
  },
  {
   "cell_type": "code",
   "execution_count": null,
   "metadata": {},
   "outputs": [],
   "source": [
    "a = np.array([1, 2, 3, 4])\n",
    "print(a.shape[0])\n",
    "print(len(a))\n",
    "b = np.array([-1, 4, 3, 2])\n",
    "print(f\"my_dot(a, b) = {custom_dot(a, b)}\")"
   ]
  },
  {
   "cell_type": "code",
   "execution_count": 48,
   "metadata": {},
   "outputs": [
    {
     "name": "stdout",
     "output_type": "stream",
     "text": [
      "np.dot(a, b) =  2501072.58\n",
      "Duration: 4.83 ms \n",
      "custom_dot(a, b) =  2501072.58\n",
      "Long duration: 2046.30 ms \n"
     ]
    }
   ],
   "source": [
    "np.random.seed(1)\n",
    "a = np.random.rand(10000000)\n",
    "b = np.random.rand(10000000)\n",
    "\n",
    "start = time.time()\n",
    "c=np.dot(a,b)\n",
    "end= time.time()\n",
    "\n",
    "print(f\"np.dot(a, b) =  {c:.2f}\")\n",
    "print(f\"Duration: {1000 * (end-start):.2f} ms \")\n",
    "\n",
    "start = time.time()\n",
    "c=custom_dot(a,b)\n",
    "end= time.time()\n",
    "\n",
    "print(f\"custom_dot(a, b) =  {c:.2f}\")\n",
    "print(f\"Long duration: {1000 * (end-start):.2f} ms \")"
   ]
  }
 ],
 "metadata": {
  "kernelspec": {
   "display_name": "base",
   "language": "python",
   "name": "python3"
  },
  "language_info": {
   "codemirror_mode": {
    "name": "ipython",
    "version": 3
   },
   "file_extension": ".py",
   "mimetype": "text/x-python",
   "name": "python",
   "nbconvert_exporter": "python",
   "pygments_lexer": "ipython3",
   "version": "3.9.13"
  },
  "orig_nbformat": 4,
  "vscode": {
   "interpreter": {
    "hash": "5396b5062d784da28015aece2eb5912005f0dfb5281b9e324bd93fc0aea98ea8"
   }
  }
 },
 "nbformat": 4,
 "nbformat_minor": 2
}
