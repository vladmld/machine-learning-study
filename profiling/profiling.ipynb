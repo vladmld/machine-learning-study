{
 "cells": [
  {
   "cell_type": "code",
   "execution_count": null,
   "metadata": {},
   "outputs": [],
   "source": [
    "# Module for deterministic profiling of Python scripts/programs\n",
    "import cProfile\n",
    "import pstats\n",
    "\n",
    "# Module for timing\n",
    "import time\n",
    "\n",
    "# Module for dealing with various types of I/O\n",
    "import io\n",
    "\n",
    "# Module Python codes profiling\n",
    "import snakeviz"
   ]
  },
  {
   "cell_type": "code",
   "execution_count": null,
   "metadata": {},
   "outputs": [],
   "source": [
    "def loopingSomething():\n",
    "    index = []\n",
    "    for i in range(100):\n",
    "        index.append(i)\n",
    "\n",
    "\n",
    "def printSomething():\n",
    "    print('Print something here!')\n",
    "\n",
    "\n",
    "def main():\n",
    "    # First function\n",
    "    loopingSomething()\n",
    "    # Second function\n",
    "    printSomething()"
   ]
  },
  {
   "cell_type": "code",
   "execution_count": null,
   "metadata": {},
   "outputs": [],
   "source": [
    "profiler = cProfile.Profile()\n",
    "profiler.enable()\n",
    "main()\n",
    "profiler.disable()\n",
    "\n",
    "stats = pstats.Stats(profiler).strip_dirs().sort_stats('ncalls')\n",
    "stats.dump_stats('./data/cProfileExport')"
   ]
  },
  {
   "cell_type": "code",
   "execution_count": null,
   "metadata": {},
   "outputs": [],
   "source": [
    "# Python script profiling viz with SnakeViz\n",
    "%reload_ext snakeviz\n"
   ]
  },
  {
   "cell_type": "code",
   "execution_count": null,
   "metadata": {},
   "outputs": [],
   "source": [
    "%snakeviz main()"
   ]
  },
  {
   "cell_type": "code",
   "execution_count": null,
   "metadata": {},
   "outputs": [],
   "source": []
  }
 ],
 "metadata": {
  "kernelspec": {
   "display_name": "base",
   "language": "python",
   "name": "python3"
  },
  "language_info": {
   "codemirror_mode": {
    "name": "ipython",
    "version": 3
   },
   "file_extension": ".py",
   "mimetype": "text/x-python",
   "name": "python",
   "nbconvert_exporter": "python",
   "pygments_lexer": "ipython3",
   "version": "3.9.13"
  },
  "orig_nbformat": 4,
  "vscode": {
   "interpreter": {
    "hash": "5396b5062d784da28015aece2eb5912005f0dfb5281b9e324bd93fc0aea98ea8"
   }
  }
 },
 "nbformat": 4,
 "nbformat_minor": 2
}
