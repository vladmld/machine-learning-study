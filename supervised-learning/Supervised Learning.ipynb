{
 "cells": [
  {
   "cell_type": "code",
   "execution_count": null,
   "id": "6675cf41",
   "metadata": {},
   "outputs": [],
   "source": [
    "import pandas\n",
    "\n",
    "!wget https://raw.githubusercontent.com/MicrosoftDocs/mslearn-introduction-to-machine-learning/main/graphing.py\n",
    "!wget https://raw.githubusercontent.com/MicrosoftDocs/mslearn-introduction-to-machine-learning/main/m0b_optimizer.py\n",
    "!wget https://raw.githubusercontent.com/MicrosoftDocs/mslearn-introduction-to-machine-learning/main/Data/seattleWeather_1948-2017.csv\n",
    "\n",
    "# Load data\n",
    "data = pandas.read_csv('seattleWeather_1948-2017.csv', parse_dates=['date'])\n",
    "\n",
    "# Keep only January temperatures\n",
    "data = data[[d.month == 1 for d in data.date]].copy()\n",
    "\n",
    "data"
   ]
  },
  {
   "cell_type": "code",
   "execution_count": null,
   "id": "4622bee9",
   "metadata": {},
   "outputs": [],
   "source": [
    "import graphing\n",
    "import numpy as np\n",
    "\n",
    "# Offset date into number of years since 1982\n",
    "data[\"years_since_1982\"] = [(d.year + d.timetuple().tm_yday / 365.25) - 1982 for d in data.date]\n",
    "\n",
    "# Scale and offset temperature so that it has a smaller range of values\n",
    "data[\"normalised_temperature\"] = (data[\"min_temperature\"] - np.mean(data[\"min_temperature\"])) / np.std(data[\"min_temperature\"])\n",
    "\n",
    "graphing.scatter_2D(data, label_x=\"years_since_1982\", label_y=\"normalised_temperature\", title=\"January Temperatures (Normalised)\")"
   ]
  },
  {
   "cell_type": "code",
   "execution_count": null,
   "id": "82fee083",
   "metadata": {},
   "outputs": [],
   "source": [
    "class LinearRegressionModel:\n",
    "\n",
    "  def __init__(self):\n",
    "    self.slope = 0\n",
    "    self.intercept = 0\n",
    "\n",
    "  def predict(self,date):\n",
    "    return date * self.slope + self.intercept\n",
    "\n",
    "model = LinearRegressionModel()\n",
    "\n",
    "print(\"Model created\")\n"
   ]
  },
  {
   "cell_type": "code",
   "execution_count": null,
   "id": "ad4699f7",
   "metadata": {},
   "outputs": [],
   "source": [
    "print(f\"Model parameters before training {model.intercept} {model.slope}\")\n",
    "\n",
    "print(\"Model before training\")\n",
    "\n",
    "graphing.scatter_2D(data,\"years_since_1982\", \"normalised_temperature\", trendline=model.predict)   "
   ]
  },
  {
   "cell_type": "code",
   "execution_count": null,
   "id": "e86958db",
   "metadata": {},
   "outputs": [],
   "source": [
    "def cost_function(actual_temperatures, estimated_temperatures):\n",
    "    difference = estimated_temperatures - actual_temperatures\n",
    "    cost = sum(difference ** 2)\n",
    "    return difference, cost"
   ]
  },
  {
   "cell_type": "code",
   "execution_count": null,
   "id": "0fde510c",
   "metadata": {},
   "outputs": [],
   "source": [
    "from m0b_optimizer import MyOptimizer\n",
    "\n",
    "# Create an optimizer\n",
    "optimizer = MyOptimizer()"
   ]
  },
  {
   "cell_type": "code",
   "execution_count": null,
   "id": "23abd451",
   "metadata": {},
   "outputs": [],
   "source": [
    "def train_one_iteration(model_inputs, true_temperatures, last_cost:float):\n",
    "    '''\n",
    "    model_inputs: one or more dates to provide the model\n",
    "    true_temperatures: corresponding temperatures knows to occur for the respective dates in model_inputs\n",
    "\n",
    "    Returns: boolean, whether the training should continue, based on the cost function (smaller = better)\n",
    "    '''\n",
    "\n",
    "    # estimate values for the inputs\n",
    "    estimated_temperatures = model.predict(model_inputs)\n",
    "\n",
    "    # calculate how well the model runs\n",
    "    difference, cost = cost_function(true_temperatures, estimated_temperatures)\n",
    "\n",
    "    if cost >= last_cost:\n",
    "        return False, cost\n",
    "    else:\n",
    "        intercept_update, slope_update = optimizer.get_parameter_updates(model_inputs, cost, difference)\n",
    "        model.intercept += intercept_update\n",
    "        model.slope += slope_update\n",
    "\n",
    "        return True, cost\n",
    "\n"
   ]
  },
  {
   "cell_type": "code",
   "execution_count": null,
   "id": "cf0dc1d0",
   "metadata": {},
   "outputs": [],
   "source": [
    "import math\n",
    "\n",
    "print(\"Training beginning....\")\n",
    "last_cost = math.inf\n",
    "i = 0\n",
    "continue_loop = True\n",
    "\n",
    "while continue_loop:\n",
    "    continue_loop, last_cost = train_one_iteration(model_inputs=data[\"years_since_1982\"],\n",
    "                                            true_temperatures=data[\"normalised_temperature\"],\n",
    "                                            last_cost=last_cost)\n",
    "\n",
    "    # Print the status\n",
    "    if i % 400 == 0:\n",
    "        print(f\"Iteration: {i}\")\n",
    "\n",
    "    i += 1\n",
    "\n",
    "\n",
    "print(\"Training complete!\")\n",
    "print(f\"Model parameters after training:\\t{model.intercept:.8f},\\t{model.slope:.8f}\")\n",
    "graphing.scatter_2D(data, \"years_since_1982\", \"normalised_temperature\", trendline=model.predict)\n",
    "\n",
    "\n"
   ]
  }
 ],
 "metadata": {
  "kernelspec": {
   "display_name": "base",
   "language": "python",
   "name": "python3"
  },
  "language_info": {
   "codemirror_mode": {
    "name": "ipython",
    "version": 3
   },
   "file_extension": ".py",
   "mimetype": "text/x-python",
   "name": "python",
   "nbconvert_exporter": "python",
   "pygments_lexer": "ipython3",
   "version": "3.9.13"
  },
  "vscode": {
   "interpreter": {
    "hash": "5396b5062d784da28015aece2eb5912005f0dfb5281b9e324bd93fc0aea98ea8"
   }
  }
 },
 "nbformat": 4,
 "nbformat_minor": 5
}
